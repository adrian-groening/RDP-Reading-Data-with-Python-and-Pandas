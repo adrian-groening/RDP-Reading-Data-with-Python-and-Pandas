{
  "cells": [
    {
      "cell_type": "code",
      "execution_count": null,
      "metadata": {
        "id": "1rRo8oNqZ-Rj",
        "collapsed": true
      },
      "outputs": [],
      "source": [
        "# Import libraries. You may or may not use all of these.\n",
        "\n",
        "#!pip install -q git+https://github.com/tensorflow/docs\n",
        "\n",
        "!pip install tensorflow==2.19\n",
        "!pip install scikit-learn\n",
        "!pip install -q seaborn\n",
        "\n",
        "# Restart the runtime after this\n",
        "\n",
        "import matplotlib.pyplot as plt\n",
        "import numpy as np\n",
        "import pandas as pd\n",
        "from IPython.display import clear_output\n",
        "from six.moves import urllib\n",
        "import seaborn as sns\n",
        "\n",
        "\n",
        "np.set_printoptions(precision=3, suppress=True)\n",
        "\n",
        "\n",
        "\n",
        "try:\n",
        "  # %tensorflow_version only exists in Colab.\n",
        "  %tensorflow_version 2.x\n",
        "except Exception:\n",
        "  pass\n",
        "import tensorflow as tf\n",
        "\n",
        "from tensorflow import keras\n",
        "from tensorflow.keras import layers\n",
        "\n",
        "import tensorflow_docs as tfdocs\n",
        "import tensorflow_docs.plots\n",
        "import tensorflow_docs.modeling\n",
        "from sklearn.model_selection import train_test_split\n",
        "\n",
        "\n",
        "print(tf.__version__)\n",
        "print(dir(tf))  # Optional: to check if 'estimator' is listed\n"
      ]
    },
    {
      "cell_type": "code",
      "execution_count": null,
      "metadata": {
        "id": "CiX2FI4gZtTt"
      },
      "outputs": [],
      "source": [
        "# Import data\n",
        "!wget https://cdn.freecodecamp.org/project-data/health-costs/insurance.csv\n",
        "dataset = pd.read_csv('insurance.csv')\n",
        "dataset.tail()"
      ]
    },
    {
      "cell_type": "code",
      "source": [],
      "metadata": {
        "id": "Wyq0HKE9t--N"
      },
      "execution_count": null,
      "outputs": []
    },
    {
      "cell_type": "code",
      "execution_count": null,
      "metadata": {
        "id": "LcopvQh3X-kX",
        "collapsed": true
      },
      "outputs": [],
      "source": [
        "# Using 80% as the training dataset & 20% as the testing\n",
        "train_dataset, test_dataset = train_test_split(dataset, test_size=0.2)\n",
        "print (train_dataset.shape)\n",
        "print (test_dataset.shape)\n",
        "\n",
        "train_labels = train_dataset.pop(\"expenses\")\n",
        "test_labels = test_dataset.pop(\"expenses\")\n",
        "print (train_labels.shape)\n",
        "print (test_labels.shape)\n"
      ]
    },
    {
      "cell_type": "code",
      "source": [
        "# Understanding the data\n",
        "print(train_dataset.describe())"
      ],
      "metadata": {
        "collapsed": true,
        "id": "mOX_oF_V7OmG"
      },
      "execution_count": null,
      "outputs": []
    },
    {
      "cell_type": "code",
      "source": [
        "print(train_dataset.age.hist())"
      ],
      "metadata": {
        "collapsed": true,
        "id": "iQ--zf-V7YWs"
      },
      "execution_count": null,
      "outputs": []
    },
    {
      "cell_type": "code",
      "source": [
        "print(train_dataset.bmi.hist())"
      ],
      "metadata": {
        "collapsed": true,
        "id": "4rP0nIuc71AQ"
      },
      "execution_count": null,
      "outputs": []
    },
    {
      "cell_type": "code",
      "source": [
        "print(train_dataset.children.hist(bins=20))"
      ],
      "metadata": {
        "collapsed": true,
        "id": "pRg-5klU8EFu"
      },
      "execution_count": null,
      "outputs": []
    },
    {
      "cell_type": "code",
      "source": [
        "print(train_dataset.sex.value_counts().plot(kind=\"barh\"))"
      ],
      "metadata": {
        "collapsed": true,
        "id": "FE-PwSPW8Wc6"
      },
      "execution_count": null,
      "outputs": []
    },
    {
      "cell_type": "code",
      "source": [
        "print(train_dataset.smoker.value_counts().plot(kind=\"barh\"))"
      ],
      "metadata": {
        "collapsed": true,
        "id": "CCW82DC79OD8"
      },
      "execution_count": null,
      "outputs": []
    },
    {
      "cell_type": "code",
      "source": [
        "print(train_dataset.region.value_counts().plot(kind=\"barh\"))"
      ],
      "metadata": {
        "collapsed": true,
        "id": "SJzkxg1Z9mOa"
      },
      "execution_count": null,
      "outputs": []
    },
    {
      "cell_type": "code",
      "source": [
        "categorial_columns = [\"sex\", \"smoker\", \"region\"]\n",
        "numeric_columns = [\"age\", \"bmi\", \"children\"]\n",
        "feature_columns = []\n",
        "\n",
        "for fn in categorial_columns:\n",
        "  v = train_dataset[fn].unique()\n",
        "  feature_columns.append(tf.feature_column.categorical_column_with_vocabulary_list(fn, v))\n",
        "\n",
        "for fn in numeric_columns:\n",
        "  feature_columns.append(tf.feature_column.numeric_column(fn, dtype=tf.float32))\n",
        "\n",
        "print(feature_columns)\n",
        "\n"
      ],
      "metadata": {
        "id": "P6pZBBn-9vfi"
      },
      "execution_count": null,
      "outputs": []
    },
    {
      "cell_type": "code",
      "source": [
        "#input function\n",
        "def make_if(data_df, label_df, epochs=10, shuffle=True, batch_size=32):\n",
        "  def input_f():\n",
        "    ds = tf.data.Dataset.from_tensor_slices((dict(data_df), label_df))\n",
        "    if shuffle:\n",
        "      ds = ds.shuffle(1000)\n",
        "    ds = ds.batch(batch_size).repeat(epochs)\n",
        "    return ds\n",
        "  return input_f"
      ],
      "metadata": {
        "id": "iM3GgIKnAEMz"
      },
      "execution_count": null,
      "outputs": []
    },
    {
      "cell_type": "code",
      "source": [
        "train_input_fn = make_if(train_dataset, train_labels)\n",
        "eval_input_fn = make_if(test_dataset, test_labels, epochs=1, shuffle=False)"
      ],
      "metadata": {
        "id": "PkKTmELvEU8X"
      },
      "execution_count": null,
      "outputs": []
    },
    {
      "cell_type": "code",
      "source": [
        "ds = make_if(train_dataset, train_labels, batch_size=10)()\n",
        "for feature_batch, label_batch in ds.take(1):\n",
        "    print('Some feature keys:', list(feature_batch.keys()))\n",
        "    print()\n",
        "    print('A batch of features for \"age\":', feature_batch['age'].numpy())  # or any valid key\n",
        "    print()\n",
        "    print('A batch of Labels (class):', label_batch.numpy())"
      ],
      "metadata": {
        "id": "CnEX5zlvQKDG"
      },
      "execution_count": null,
      "outputs": []
    },
    {
      "cell_type": "code",
      "source": [
        "lin_est = tf.estimator.LinearRegressor(feature_columns=feature_columns)\n",
        "\n",
        "lin_est.train(train_input_fn)\n",
        "\n",
        "result = lin_est.evaluate(eval_input_fn)\n",
        "\n",
        "clear_output()  # clears consoke output\n",
        "print(result)"
      ],
      "metadata": {
        "id": "eQz-TCqfGC5S"
      },
      "execution_count": null,
      "outputs": []
    },
    {
      "cell_type": "code",
      "source": [
        "pred_dicts = list(lin_est.predict(eval_input_fn))\n",
        "print(pred_dicts)"
      ],
      "metadata": {
        "id": "lBkmpobpNywy"
      },
      "execution_count": null,
      "outputs": []
    },
    {
      "cell_type": "code",
      "source": [
        "probs = pd.Series([pred['predictions'][0] for pred in pred_dicts])\n",
        "\n",
        "probs.plot(kind='hist', bins=20, title='Prediction Values')"
      ],
      "metadata": {
        "id": "DfotLvtdN-Ld"
      },
      "execution_count": null,
      "outputs": []
    },
    {
      "cell_type": "code",
      "source": [
        "model"
      ],
      "metadata": {
        "id": "_gYOezfbORTY"
      },
      "execution_count": null,
      "outputs": []
    },
    {
      "cell_type": "code",
      "execution_count": null,
      "metadata": {
        "id": "Xe7RXH3N3CWU"
      },
      "outputs": [],
      "source": [
        "# RUN THIS CELL TO TEST YOUR MODEL. DO NOT MODIFY CONTENTS.\n",
        "# Test model by checking how well the model generalizes using the test set.\n",
        "loss, mae, mse = model.evaluate(test_dataset, test_labels, verbose=2)\n",
        "\n",
        "print(\"Testing set Mean Abs Error: {:5.2f} expenses\".format(mae))\n",
        "\n",
        "if mae < 3500:\n",
        "  print(\"You passed the challenge. Great job!\")\n",
        "else:\n",
        "  print(\"The Mean Abs Error must be less than 3500. Keep trying.\")\n",
        "\n",
        "# Plot predictions.\n",
        "test_predictions = model.predict(test_dataset).flatten()\n",
        "\n",
        "a = plt.axes(aspect='equal')\n",
        "plt.scatter(test_labels, test_predictions)\n",
        "plt.xlabel('True values (expenses)')\n",
        "plt.ylabel('Predictions (expenses)')\n",
        "lims = [0, 50000]\n",
        "plt.xlim(lims)\n",
        "plt.ylim(lims)\n",
        "_ = plt.plot(lims,lims)\n"
      ]
    }
  ],
  "metadata": {
    "colab": {
      "name": "fcc_predict_health_costs_with_regression.ipynb",
      "private_outputs": true,
      "provenance": [],
      "gpuType": "T4"
    },
    "kernelspec": {
      "display_name": "Python 3",
      "name": "python3"
    },
    "accelerator": "GPU"
  },
  "nbformat": 4,
  "nbformat_minor": 0
}